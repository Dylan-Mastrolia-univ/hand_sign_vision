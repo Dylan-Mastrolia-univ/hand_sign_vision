{
 "cells": [
  {
   "cell_type": "code",
   "execution_count": 1,
   "metadata": {
    "id": "W5BzY-J5kdeG"
   },
   "outputs": [],
   "source": [
    "import tensorflow as tf"
   ]
  },
  {
   "cell_type": "markdown",
   "source": [
    "Colab Env"
   ],
   "metadata": {
    "id": "yyYP4vxQjPjs"
   }
  },
  {
   "cell_type": "code",
   "metadata": {
    "colab": {
     "base_uri": "https://localhost:8080/",
     "height": 391
    },
    "id": "f47a9f9f",
    "outputId": "57a24a12-e047-4891-c9a1-9e2a9e1ca437"
   },
   "source": [
    "from google.colab import drive\n",
    "drive.mount('/content/drive')\n",
    "\n",
    "!cp \"/content/drive/MyDrive/dataset.zip\" \"/content/\"\n",
    "!unzip /content/dataset.zip\n",
    "\n",
    "train_data_folder=\"/content/dataset_train\"\n",
    "eval_data_folder=\"/content/dataset_eval\""
   ],
   "outputs": [],
   "execution_count": null
  },
  {
   "cell_type": "markdown",
   "source": [
    "Local Env"
   ],
   "metadata": {
    "id": "BPlRxZxJjYgU"
   }
  },
  {
   "cell_type": "code",
   "source": [
    "train_data_folder=\"./dataset_train\"\n",
    "eval_data_folder=\"./dataset_eval\""
   ],
   "metadata": {
    "id": "9ZCvHjPijaUe"
   },
   "execution_count": 2,
   "outputs": []
  },
  {
   "cell_type": "code",
   "execution_count": 3,
   "metadata": {
    "id": "PJ5Lq53en6F4"
   },
   "outputs": [],
   "source": [
    "image_size = (224,224)\n",
    "batch_size = 128"
   ]
  },
  {
   "cell_type": "code",
   "execution_count": 5,
   "metadata": {
    "colab": {
     "base_uri": "https://localhost:8080/"
    },
    "id": "3cVqETIdol5z",
    "outputId": "07743ba2-48ad-42e5-8154-e131d411df91"
   },
   "outputs": [
    {
     "output_type": "stream",
     "name": "stdout",
     "text": [
      "Found 345623 files belonging to 26 classes.\n",
      "Classes : ['a', 'b', 'c', 'd', 'e', 'f', 'g', 'h', 'i', 'j', 'k', 'l', 'm', 'n', 'o', 'p', 'q', 'r', 's', 't', 'u', 'v', 'w', 'x', 'y', 'z']\n",
      "26\n",
      "Found 2600 files belonging to 26 classes.\n"
     ]
    }
   ],
   "source": [
    "#import data:\n",
    "\n",
    "train_dataset = tf.keras.preprocessing.image_dataset_from_directory(train_data_folder,image_size=image_size,shuffle=True,batch_size=batch_size)\n",
    "class_names = train_dataset.class_names\n",
    "print(\"Classes :\", class_names)\n",
    "class_number = len(class_names)\n",
    "print(class_number)\n",
    "\n",
    "eval_dataset = tf.keras.preprocessing.image_dataset_from_directory(eval_data_folder,image_size=image_size,shuffle=False,batch_size=batch_size,class_names=class_names)\n",
    "#test_dataset = tf.keras.preprocessing.image_dataset_from_directory(test_data_folder,image_size=image_size,shuffle=True,batch_size=batch_size)"
   ]
  },
  {
   "cell_type": "code",
   "execution_count": 6,
   "metadata": {
    "id": "VzZ8vOvYpeda"
   },
   "outputs": [],
   "source": [
    "import tensorflow as tf\n",
    "\n",
    "AUTOTUNE = tf.data.AUTOTUNE\n",
    "train_dataset = train_dataset.prefetch(AUTOTUNE)\n",
    "eval_dataset   = eval_dataset.prefetch(AUTOTUNE)\n",
    "\n",
    "class RandomInvert(tf.keras.layers.Layer):\n",
    "    def __init__(self, p=0.5, **kwargs):\n",
    "        super().__init__(**kwargs)\n",
    "        self.p = p\n",
    "\n",
    "    def call(self, x, training=None):\n",
    "        training = tf.constant(False) if training is None else tf.cast(training, tf.bool)\n",
    "\n",
    "        def do_aug():\n",
    "            batch = tf.shape(x)[0]\n",
    "            mask = tf.random.uniform([batch, 1, 1, 1]) < self.p\n",
    "            return tf.where(mask, 1.0 - x, x)\n",
    "\n",
    "        return tf.cond(training, do_aug, lambda: x)\n",
    "\n",
    "aug = tf.keras.Sequential([\n",
    "    tf.keras.layers.RandomFlip(\"horizontal\"),\n",
    "    tf.keras.layers.RandomRotation(0.05),\n",
    "    tf.keras.layers.RandomContrast(0.10),\n",
    "    tf.keras.layers.RandomTranslation(0.05, 0.05),\n",
    "    tf.keras.layers.RandomZoom(0.07),\n",
    "    tf.keras.layers.RandomBrightness(factor=0.2, value_range=(0, 1)),\n",
    "    tf.keras.layers.GaussianNoise(0.03),\n",
    "    RandomInvert(0.5),\n",
    "], name=\"augment\")"
   ]
  },
  {
   "cell_type": "code",
   "execution_count": 7,
   "metadata": {
    "id": "kopIAwBppOmM"
   },
   "outputs": [],
   "source": [
    "def conv_block(c, k=3, s=1):\n",
    "    return tf.keras.Sequential([\n",
    "        tf.keras.layers.Conv2D(c, k, s, padding=\"same\", use_bias=False),\n",
    "        tf.keras.layers.BatchNormalization(),\n",
    "        tf.keras.layers.ReLU()\n",
    "    ])"
   ]
  },
  {
   "cell_type": "code",
   "execution_count": 8,
   "metadata": {
    "id": "6mtmPd2eqtHL"
   },
   "outputs": [],
   "source": [
    "inputs = tf.keras.Input(shape=image_size + (3,))\n",
    "x = tf.keras.layers.Rescaling(1./255)(inputs)\n",
    "x = aug(x)\n",
    "\n",
    "\n",
    "x = conv_block(48)(x)\n",
    "x = conv_block(48)(x); x = conv_block(96, s=2)(x)\n",
    "x = conv_block(96)(x); x = conv_block(192, s=2)(x)\n",
    "x = conv_block(192)(x); x = conv_block(384, s=2)(x)\n",
    "\n",
    "\n",
    "x = tf.keras.layers.GlobalAveragePooling2D()(x)\n",
    "x = tf.keras.layers.Dropout(0.4)(x)\n",
    "outputs = tf.keras.layers.Dense(class_number, activation=\"softmax\")(x)\n",
    "model = tf.keras.Model(inputs, outputs)\n",
    "\n",
    "model.compile(\n",
    "    optimizer=tf.keras.optimizers.AdamW(3e-4, weight_decay=1e-4),\n",
    "    loss=\"sparse_categorical_crossentropy\",\n",
    "    metrics=[\"accuracy\"]\n",
    ")\n",
    "\n"
   ]
  },
  {
   "cell_type": "code",
   "source": [
    "cbs = [\n",
    "    tf.keras.callbacks.ModelCheckpoint(\n",
    "        \"best_scratch.keras\", save_best_only=True, monitor=\"val_accuracy\"\n",
    "    ),\n",
    "    tf.keras.callbacks.ReduceLROnPlateau(patience=3, factor=0.5,monitor=\"val_accuracy\"),\n",
    "    tf.keras.callbacks.EarlyStopping(patience=8, restore_best_weights=True, monitor=\"val_accuracy\"),\n",
    "]"
   ],
   "metadata": {
    "id": "FXsBHU7xGXqt"
   },
   "execution_count": 9,
   "outputs": []
  },
  {
   "cell_type": "code",
   "source": [
    "model.fit(\n",
    "    train_dataset,\n",
    "    validation_data=eval_dataset,\n",
    "    epochs=150,\n",
    "    callbacks=cbs\n",
    ")"
   ],
   "metadata": {
    "colab": {
     "base_uri": "https://localhost:8080/"
    },
    "id": "TvGeVx4ZGZwp",
    "outputId": "c8af3d41-7607-453c-d5d4-5c31d67b930f"
   },
   "execution_count": null,
   "outputs": [
    {
     "output_type": "stream",
     "name": "stdout",
     "text": [
      "Epoch 1/150\n",
      "\u001B[1m2701/2701\u001B[0m \u001B[32m━━━━━━━━━━━━━━━━━━━━\u001B[0m\u001B[37m\u001B[0m \u001B[1m1539s\u001B[0m 563ms/step - accuracy: 0.1819 - loss: 2.7908 - val_accuracy: 0.0835 - val_loss: 3.5340 - learning_rate: 3.0000e-04\n",
      "Epoch 2/150\n",
      "\u001B[1m2701/2701\u001B[0m \u001B[32m━━━━━━━━━━━━━━━━━━━━\u001B[0m\u001B[37m\u001B[0m \u001B[1m1527s\u001B[0m 565ms/step - accuracy: 0.5281 - loss: 1.5827 - val_accuracy: 0.1442 - val_loss: 3.2811 - learning_rate: 3.0000e-04\n",
      "Epoch 3/150\n",
      "\u001B[1m2701/2701\u001B[0m \u001B[32m━━━━━━━━━━━━━━━━━━━━\u001B[0m\u001B[37m\u001B[0m \u001B[1m1583s\u001B[0m 586ms/step - accuracy: 0.6638 - loss: 1.1343 - val_accuracy: 0.2012 - val_loss: 2.9607 - learning_rate: 3.0000e-04\n",
      "Epoch 4/150\n",
      "\u001B[1m2701/2701\u001B[0m \u001B[32m━━━━━━━━━━━━━━━━━━━━\u001B[0m\u001B[37m\u001B[0m \u001B[1m1683s\u001B[0m 623ms/step - accuracy: 0.7294 - loss: 0.9128 - val_accuracy: 0.2996 - val_loss: 2.4479 - learning_rate: 3.0000e-04\n",
      "Epoch 5/150\n",
      "\u001B[1m2701/2701\u001B[0m \u001B[32m━━━━━━━━━━━━━━━━━━━━\u001B[0m\u001B[37m\u001B[0m \u001B[1m1730s\u001B[0m 640ms/step - accuracy: 0.7739 - loss: 0.7650 - val_accuracy: 0.3500 - val_loss: 2.2963 - learning_rate: 3.0000e-04\n",
      "Epoch 6/150\n",
      "\u001B[1m2701/2701\u001B[0m \u001B[32m━━━━━━━━━━━━━━━━━━━━\u001B[0m\u001B[37m\u001B[0m \u001B[1m1729s\u001B[0m 640ms/step - accuracy: 0.8022 - loss: 0.6649 - val_accuracy: 0.4769 - val_loss: 1.7870 - learning_rate: 3.0000e-04\n",
      "Epoch 7/150\n",
      "\u001B[1m2701/2701\u001B[0m \u001B[32m━━━━━━━━━━━━━━━━━━━━\u001B[0m\u001B[37m\u001B[0m \u001B[1m1731s\u001B[0m 641ms/step - accuracy: 0.8240 - loss: 0.5926 - val_accuracy: 0.5062 - val_loss: 1.9000 - learning_rate: 3.0000e-04\n",
      "Epoch 8/150\n",
      "\u001B[1m2701/2701\u001B[0m \u001B[32m━━━━━━━━━━━━━━━━━━━━\u001B[0m\u001B[37m\u001B[0m \u001B[1m1731s\u001B[0m 641ms/step - accuracy: 0.8414 - loss: 0.5340 - val_accuracy: 0.5812 - val_loss: 1.4843 - learning_rate: 3.0000e-04\n",
      "Epoch 9/150\n",
      "\u001B[1m2701/2701\u001B[0m \u001B[32m━━━━━━━━━━━━━━━━━━━━\u001B[0m\u001B[37m\u001B[0m \u001B[1m1740s\u001B[0m 644ms/step - accuracy: 0.8547 - loss: 0.4863 - val_accuracy: 0.6715 - val_loss: 1.1942 - learning_rate: 3.0000e-04\n",
      "Epoch 10/150\n",
      "\u001B[1m2701/2701\u001B[0m \u001B[32m━━━━━━━━━━━━━━━━━━━━\u001B[0m\u001B[37m\u001B[0m \u001B[1m1728s\u001B[0m 640ms/step - accuracy: 0.8687 - loss: 0.4421 - val_accuracy: 0.6723 - val_loss: 1.1893 - learning_rate: 3.0000e-04\n",
      "Epoch 11/150\n",
      "\u001B[1m2701/2701\u001B[0m \u001B[32m━━━━━━━━━━━━━━━━━━━━\u001B[0m\u001B[37m\u001B[0m \u001B[1m1746s\u001B[0m 646ms/step - accuracy: 0.8797 - loss: 0.4061 - val_accuracy: 0.7950 - val_loss: 0.7739 - learning_rate: 3.0000e-04\n",
      "Epoch 12/150\n",
      "\u001B[1m2701/2701\u001B[0m \u001B[32m━━━━━━━━━━━━━━━━━━━━\u001B[0m\u001B[37m\u001B[0m \u001B[1m1737s\u001B[0m 643ms/step - accuracy: 0.8872 - loss: 0.3796 - val_accuracy: 0.8042 - val_loss: 0.7249 - learning_rate: 3.0000e-04\n",
      "Epoch 13/150\n",
      "\u001B[1m2701/2701\u001B[0m \u001B[32m━━━━━━━━━━━━━━━━━━━━\u001B[0m\u001B[37m\u001B[0m \u001B[1m1693s\u001B[0m 627ms/step - accuracy: 0.8955 - loss: 0.3540 - val_accuracy: 0.8496 - val_loss: 0.5970 - learning_rate: 3.0000e-04\n",
      "Epoch 14/150\n",
      "\u001B[1m2701/2701\u001B[0m \u001B[32m━━━━━━━━━━━━━━━━━━━━\u001B[0m\u001B[37m\u001B[0m \u001B[1m1744s\u001B[0m 646ms/step - accuracy: 0.9023 - loss: 0.3306 - val_accuracy: 0.8612 - val_loss: 0.5480 - learning_rate: 3.0000e-04\n",
      "Epoch 15/150\n",
      "\u001B[1m2701/2701\u001B[0m \u001B[32m━━━━━━━━━━━━━━━━━━━━\u001B[0m\u001B[37m\u001B[0m \u001B[1m1737s\u001B[0m 643ms/step - accuracy: 0.9058 - loss: 0.3186 - val_accuracy: 0.8815 - val_loss: 0.4561 - learning_rate: 3.0000e-04\n",
      "Epoch 16/150\n",
      "\u001B[1m2701/2701\u001B[0m \u001B[32m━━━━━━━━━━━━━━━━━━━━\u001B[0m\u001B[37m\u001B[0m \u001B[1m1733s\u001B[0m 642ms/step - accuracy: 0.9101 - loss: 0.3021 - val_accuracy: 0.8596 - val_loss: 0.5457 - learning_rate: 3.0000e-04\n",
      "Epoch 17/150\n",
      "\u001B[1m2701/2701\u001B[0m \u001B[32m━━━━━━━━━━━━━━━━━━━━\u001B[0m\u001B[37m\u001B[0m \u001B[1m1735s\u001B[0m 642ms/step - accuracy: 0.9150 - loss: 0.2896 - val_accuracy: 0.8858 - val_loss: 0.4572 - learning_rate: 3.0000e-04\n",
      "Epoch 18/150\n",
      "\u001B[1m2701/2701\u001B[0m \u001B[32m━━━━━━━━━━━━━━━━━━━━\u001B[0m\u001B[37m\u001B[0m \u001B[1m1739s\u001B[0m 644ms/step - accuracy: 0.9178 - loss: 0.2785 - val_accuracy: 0.8965 - val_loss: 0.3896 - learning_rate: 3.0000e-04\n",
      "Epoch 19/150\n",
      "\u001B[1m2701/2701\u001B[0m \u001B[32m━━━━━━━━━━━━━━━━━━━━\u001B[0m\u001B[37m\u001B[0m \u001B[1m1739s\u001B[0m 644ms/step - accuracy: 0.9204 - loss: 0.2694 - val_accuracy: 0.9046 - val_loss: 0.3643 - learning_rate: 3.0000e-04\n",
      "Epoch 20/150\n",
      "\u001B[1m2701/2701\u001B[0m \u001B[32m━━━━━━━━━━━━━━━━━━━━\u001B[0m\u001B[37m\u001B[0m \u001B[1m1731s\u001B[0m 641ms/step - accuracy: 0.9225 - loss: 0.2612 - val_accuracy: 0.9177 - val_loss: 0.3289 - learning_rate: 3.0000e-04\n",
      "Epoch 21/150\n",
      "\u001B[1m2701/2701\u001B[0m \u001B[32m━━━━━━━━━━━━━━━━━━━━\u001B[0m\u001B[37m\u001B[0m \u001B[1m1745s\u001B[0m 646ms/step - accuracy: 0.9249 - loss: 0.2528 - val_accuracy: 0.9200 - val_loss: 0.3201 - learning_rate: 3.0000e-04\n",
      "Epoch 22/150\n",
      "\u001B[1m2701/2701\u001B[0m \u001B[32m━━━━━━━━━━━━━━━━━━━━\u001B[0m\u001B[37m\u001B[0m \u001B[1m1738s\u001B[0m 643ms/step - accuracy: 0.9269 - loss: 0.2458 - val_accuracy: 0.9112 - val_loss: 0.3609 - learning_rate: 3.0000e-04\n",
      "Epoch 23/150\n",
      "\u001B[1m2701/2701\u001B[0m \u001B[32m━━━━━━━━━━━━━━━━━━━━\u001B[0m\u001B[37m\u001B[0m \u001B[1m1752s\u001B[0m 649ms/step - accuracy: 0.9291 - loss: 0.2397 - val_accuracy: 0.9285 - val_loss: 0.2769 - learning_rate: 3.0000e-04\n",
      "Epoch 24/150\n",
      "\u001B[1m2701/2701\u001B[0m \u001B[32m━━━━━━━━━━━━━━━━━━━━\u001B[0m\u001B[37m\u001B[0m \u001B[1m1752s\u001B[0m 649ms/step - accuracy: 0.9302 - loss: 0.2345 - val_accuracy: 0.8754 - val_loss: 0.6277 - learning_rate: 3.0000e-04\n",
      "Epoch 25/150\n",
      "\u001B[1m2701/2701\u001B[0m \u001B[32m━━━━━━━━━━━━━━━━━━━━\u001B[0m\u001B[37m\u001B[0m \u001B[1m1760s\u001B[0m 652ms/step - accuracy: 0.9316 - loss: 0.2315 - val_accuracy: 0.9365 - val_loss: 0.2385 - learning_rate: 3.0000e-04\n",
      "Epoch 26/150\n",
      "\u001B[1m2701/2701\u001B[0m \u001B[32m━━━━━━━━━━━━━━━━━━━━\u001B[0m\u001B[37m\u001B[0m \u001B[1m1757s\u001B[0m 651ms/step - accuracy: 0.9331 - loss: 0.2258 - val_accuracy: 0.9350 - val_loss: 0.2678 - learning_rate: 3.0000e-04\n",
      "Epoch 27/150\n",
      "\u001B[1m2701/2701\u001B[0m \u001B[32m━━━━━━━━━━━━━━━━━━━━\u001B[0m\u001B[37m\u001B[0m \u001B[1m1763s\u001B[0m 653ms/step - accuracy: 0.9346 - loss: 0.2205 - val_accuracy: 0.9265 - val_loss: 0.2710 - learning_rate: 3.0000e-04\n",
      "Epoch 28/150\n",
      "\u001B[1m2701/2701\u001B[0m \u001B[32m━━━━━━━━━━━━━━━━━━━━\u001B[0m\u001B[37m\u001B[0m \u001B[1m1759s\u001B[0m 651ms/step - accuracy: 0.9352 - loss: 0.2181 - val_accuracy: 0.9423 - val_loss: 0.2007 - learning_rate: 3.0000e-04\n",
      "Epoch 29/150\n",
      "\u001B[1m2701/2701\u001B[0m \u001B[32m━━━━━━━━━━━━━━━━━━━━\u001B[0m\u001B[37m\u001B[0m \u001B[1m1766s\u001B[0m 654ms/step - accuracy: 0.9364 - loss: 0.2141 - val_accuracy: 0.9354 - val_loss: 0.2559 - learning_rate: 3.0000e-04\n",
      "Epoch 30/150\n",
      "\u001B[1m2701/2701\u001B[0m \u001B[32m━━━━━━━━━━━━━━━━━━━━\u001B[0m\u001B[37m\u001B[0m \u001B[1m1761s\u001B[0m 652ms/step - accuracy: 0.9372 - loss: 0.2109 - val_accuracy: 0.9527 - val_loss: 0.1933 - learning_rate: 3.0000e-04\n",
      "Epoch 31/150\n",
      "\u001B[1m2701/2701\u001B[0m \u001B[32m━━━━━━━━━━━━━━━━━━━━\u001B[0m\u001B[37m\u001B[0m \u001B[1m1698s\u001B[0m 629ms/step - accuracy: 0.9386 - loss: 0.2072 - val_accuracy: 0.9485 - val_loss: 0.2204 - learning_rate: 3.0000e-04\n",
      "Epoch 32/150\n",
      "\u001B[1m2701/2701\u001B[0m \u001B[32m━━━━━━━━━━━━━━━━━━━━\u001B[0m\u001B[37m\u001B[0m \u001B[1m1440s\u001B[0m 533ms/step - accuracy: 0.9390 - loss: 0.2058 - val_accuracy: 0.9381 - val_loss: 0.2607 - learning_rate: 3.0000e-04\n",
      "Epoch 33/150\n",
      "\u001B[1m2701/2701\u001B[0m \u001B[32m━━━━━━━━━━━━━━━━━━━━\u001B[0m\u001B[37m\u001B[0m \u001B[1m1499s\u001B[0m 555ms/step - accuracy: 0.9388 - loss: 0.2053 - val_accuracy: 0.9565 - val_loss: 0.1692 - learning_rate: 3.0000e-04\n",
      "Epoch 34/150\n",
      "\u001B[1m2701/2701\u001B[0m \u001B[32m━━━━━━━━━━━━━━━━━━━━\u001B[0m\u001B[37m\u001B[0m \u001B[1m1760s\u001B[0m 652ms/step - accuracy: 0.9411 - loss: 0.1992 - val_accuracy: 0.9508 - val_loss: 0.1719 - learning_rate: 3.0000e-04\n",
      "Epoch 35/150\n",
      "\u001B[1m2701/2701\u001B[0m \u001B[32m━━━━━━━━━━━━━━━━━━━━\u001B[0m\u001B[37m\u001B[0m \u001B[1m1756s\u001B[0m 650ms/step - accuracy: 0.9406 - loss: 0.1995 - val_accuracy: 0.9508 - val_loss: 0.2103 - learning_rate: 3.0000e-04\n",
      "Epoch 36/150\n",
      "\u001B[1m2701/2701\u001B[0m \u001B[32m━━━━━━━━━━━━━━━━━━━━\u001B[0m\u001B[37m\u001B[0m \u001B[1m1756s\u001B[0m 650ms/step - accuracy: 0.9415 - loss: 0.1964 - val_accuracy: 0.9400 - val_loss: 0.4212 - learning_rate: 3.0000e-04\n",
      "Epoch 37/150\n",
      "\u001B[1m2701/2701\u001B[0m \u001B[32m━━━━━━━━━━━━━━━━━━━━\u001B[0m\u001B[37m\u001B[0m \u001B[1m1761s\u001B[0m 652ms/step - accuracy: 0.9475 - loss: 0.1779 - val_accuracy: 0.9723 - val_loss: 0.1290 - learning_rate: 1.5000e-04\n",
      "Epoch 38/150\n",
      "\u001B[1m2701/2701\u001B[0m \u001B[32m━━━━━━━━━━━━━━━━━━━━\u001B[0m\u001B[37m\u001B[0m \u001B[1m1686s\u001B[0m 624ms/step - accuracy: 0.9483 - loss: 0.1738 - val_accuracy: 0.9742 - val_loss: 0.1038 - learning_rate: 1.5000e-04\n",
      "Epoch 39/150\n",
      "\u001B[1m2701/2701\u001B[0m \u001B[32m━━━━━━━━━━━━━━━━━━━━\u001B[0m\u001B[37m\u001B[0m \u001B[1m1339s\u001B[0m 496ms/step - accuracy: 0.9489 - loss: 0.1719 - val_accuracy: 0.9731 - val_loss: 0.1005 - learning_rate: 1.5000e-04\n",
      "Epoch 40/150\n",
      "\u001B[1m2701/2701\u001B[0m \u001B[32m━━━━━━━━━━━━━━━━━━━━\u001B[0m\u001B[37m\u001B[0m \u001B[1m1747s\u001B[0m 647ms/step - accuracy: 0.9495 - loss: 0.1702 - val_accuracy: 0.9658 - val_loss: 0.1229 - learning_rate: 1.5000e-04\n",
      "Epoch 41/150\n",
      "\u001B[1m1888/2701\u001B[0m \u001B[32m━━━━━━━━━━━━━\u001B[0m\u001B[37m━━━━━━━\u001B[0m \u001B[1m7:58\u001B[0m 589ms/step - accuracy: 0.9497 - loss: 0.1693"
     ]
    }
   ]
  },
  {
   "cell_type": "code",
   "source": [
    "model.evaluate(eval_dataset) # or test_dataset if defined"
   ],
   "metadata": {
    "id": "WnUgw6jxGGbB"
   },
   "execution_count": null,
   "outputs": []
  },
  {
   "cell_type": "code",
   "metadata": {
    "id": "95ac99b2"
   },
   "source": [
    "model.save(\"v1_handsign.keras\")"
   ],
   "execution_count": null,
   "outputs": []
  },
  {
   "cell_type": "code",
   "source": [],
   "metadata": {
    "id": "79VBe2kqnqET"
   },
   "execution_count": null,
   "outputs": []
  }
 ],
 "metadata": {
  "colab": {
   "provenance": [],
   "gpuType": "T4"
  },
  "kernelspec": {
   "display_name": "Python 3",
   "name": "python3"
  },
  "language_info": {
   "name": "python"
  },
  "accelerator": "GPU"
 },
 "nbformat": 4,
 "nbformat_minor": 0
}
